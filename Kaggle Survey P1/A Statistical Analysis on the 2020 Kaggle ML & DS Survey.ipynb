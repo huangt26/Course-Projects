{
 "cells": [
  {
   "cell_type": "markdown",
   "metadata": {},
   "source": [
    "# A Statistical Analysis on the 2020 Kaggle ML & DS Survey\n",
    "\n",
    "## Background\n",
    "- Kaggle has hosted an open data scientist competition in 2020 titled “Kaggle ML & DS Survey Challenge.” The purpose of this challenge was to “tell a data story about a subset of the data science community represented in this survey, through a combination of both narrative text and data exploration.” More information on the competition, data, and prizes can be found on: https://www.kaggle.com/c/kaggle-survey-2020/data"
   ]
  },
  {
   "cell_type": "markdown",
   "metadata": {},
   "source": [
    "### Question 1 - Summarize dataset characteristics\n",
    "\n",
    "- Present 3 figures that represent differnt trends in the data. \n",
    "- You can consider Country, Age, Education, Professional Experience, and Salary\n"
   ]
  },
  {
   "cell_type": "code",
   "execution_count": 144,
   "metadata": {},
   "outputs": [],
   "source": [
    "import pandas as pd\n",
    "import numpy as np\n",
    "import matplotlib.pyplot as plt\n",
    "import seaborn as sns"
   ]
  },
  {
   "cell_type": "code",
   "execution_count": 145,
   "metadata": {
    "scrolled": true
   },
   "outputs": [],
   "source": [
    "# Extract the selected columns from the given Excel File\n",
    "# Rename the columns\n",
    "col_list =['Q1','Q2','Q3','Q4','Q6', 'Q24']\n",
    "col_name = ['age','sex','country','education','years_of_experience','salary']\n",
    "clean_data = pd.read_csv('clean_kaggle_data.csv', usecols=col_list)\n",
    "\n",
    "col={}\n",
    "\n",
    "for i in range(len(col_list)):\n",
    "    col[col_list[i]]=col_name[i]\n",
    "    \n",
    "clean_data = clean_data.rename(columns=col)"
   ]
  },
  {
   "cell_type": "code",
   "execution_count": 146,
   "metadata": {},
   "outputs": [
    {
     "data": {
      "text/html": [
       "<div>\n",
       "<style scoped>\n",
       "    .dataframe tbody tr th:only-of-type {\n",
       "        vertical-align: middle;\n",
       "    }\n",
       "\n",
       "    .dataframe tbody tr th {\n",
       "        vertical-align: top;\n",
       "    }\n",
       "\n",
       "    .dataframe thead th {\n",
       "        text-align: right;\n",
       "    }\n",
       "</style>\n",
       "<table border=\"1\" class=\"dataframe\">\n",
       "  <thead>\n",
       "    <tr style=\"text-align: right;\">\n",
       "      <th></th>\n",
       "      <th>salary</th>\n",
       "    </tr>\n",
       "  </thead>\n",
       "  <tbody>\n",
       "    <tr>\n",
       "      <th>count</th>\n",
       "      <td>10729.000000</td>\n",
       "    </tr>\n",
       "    <tr>\n",
       "      <th>mean</th>\n",
       "      <td>48777.239258</td>\n",
       "    </tr>\n",
       "    <tr>\n",
       "      <th>std</th>\n",
       "      <td>69458.784233</td>\n",
       "    </tr>\n",
       "    <tr>\n",
       "      <th>min</th>\n",
       "      <td>1000.000000</td>\n",
       "    </tr>\n",
       "    <tr>\n",
       "      <th>25%</th>\n",
       "      <td>2000.000000</td>\n",
       "    </tr>\n",
       "    <tr>\n",
       "      <th>50%</th>\n",
       "      <td>20000.000000</td>\n",
       "    </tr>\n",
       "    <tr>\n",
       "      <th>75%</th>\n",
       "      <td>70000.000000</td>\n",
       "    </tr>\n",
       "    <tr>\n",
       "      <th>max</th>\n",
       "      <td>500000.000000</td>\n",
       "    </tr>\n",
       "  </tbody>\n",
       "</table>\n",
       "</div>"
      ],
      "text/plain": [
       "              salary\n",
       "count   10729.000000\n",
       "mean    48777.239258\n",
       "std     69458.784233\n",
       "min      1000.000000\n",
       "25%      2000.000000\n",
       "50%     20000.000000\n",
       "75%     70000.000000\n",
       "max    500000.000000"
      ]
     },
     "execution_count": 146,
     "metadata": {},
     "output_type": "execute_result"
    }
   ],
   "source": [
    "clean_data.describe()"
   ]
  },
  {
   "cell_type": "code",
   "execution_count": 180,
   "metadata": {
    "scrolled": true
   },
   "outputs": [
    {
     "data": {
      "text/html": [
       "<div>\n",
       "<style scoped>\n",
       "    .dataframe tbody tr th:only-of-type {\n",
       "        vertical-align: middle;\n",
       "    }\n",
       "\n",
       "    .dataframe tbody tr th {\n",
       "        vertical-align: top;\n",
       "    }\n",
       "\n",
       "    .dataframe thead th {\n",
       "        text-align: right;\n",
       "    }\n",
       "</style>\n",
       "<table border=\"1\" class=\"dataframe\">\n",
       "  <thead>\n",
       "    <tr style=\"text-align: right;\">\n",
       "      <th></th>\n",
       "      <th>age</th>\n",
       "      <th>sex</th>\n",
       "      <th>country</th>\n",
       "      <th>education</th>\n",
       "      <th>years_of_experience</th>\n",
       "      <th>salary</th>\n",
       "    </tr>\n",
       "  </thead>\n",
       "  <tbody>\n",
       "    <tr>\n",
       "      <th>0</th>\n",
       "      <td>30-34</td>\n",
       "      <td>Man</td>\n",
       "      <td>United States of America</td>\n",
       "      <td>Master’s degree</td>\n",
       "      <td>5-10 years</td>\n",
       "      <td>125000</td>\n",
       "    </tr>\n",
       "    <tr>\n",
       "      <th>1</th>\n",
       "      <td>35-39</td>\n",
       "      <td>Man</td>\n",
       "      <td>Argentina</td>\n",
       "      <td>Bachelor’s degree</td>\n",
       "      <td>10-20 years</td>\n",
       "      <td>20000</td>\n",
       "    </tr>\n",
       "    <tr>\n",
       "      <th>2</th>\n",
       "      <td>30-34</td>\n",
       "      <td>Man</td>\n",
       "      <td>United States of America</td>\n",
       "      <td>Master’s degree</td>\n",
       "      <td>5-10 years</td>\n",
       "      <td>150000</td>\n",
       "    </tr>\n",
       "    <tr>\n",
       "      <th>3</th>\n",
       "      <td>35-39</td>\n",
       "      <td>Man</td>\n",
       "      <td>Germany</td>\n",
       "      <td>Doctoral degree</td>\n",
       "      <td>5-10 years</td>\n",
       "      <td>80000</td>\n",
       "    </tr>\n",
       "    <tr>\n",
       "      <th>4</th>\n",
       "      <td>35-39</td>\n",
       "      <td>Man</td>\n",
       "      <td>United States of America</td>\n",
       "      <td>Doctoral degree</td>\n",
       "      <td>1-2 years</td>\n",
       "      <td>40000</td>\n",
       "    </tr>\n",
       "  </tbody>\n",
       "</table>\n",
       "</div>"
      ],
      "text/plain": [
       "     age  sex                   country          education  \\\n",
       "0  30-34  Man  United States of America    Master’s degree   \n",
       "1  35-39  Man                 Argentina  Bachelor’s degree   \n",
       "2  30-34  Man  United States of America    Master’s degree   \n",
       "3  35-39  Man                   Germany    Doctoral degree   \n",
       "4  35-39  Man  United States of America    Doctoral degree   \n",
       "\n",
       "  years_of_experience  salary  \n",
       "0          5-10 years  125000  \n",
       "1         10-20 years   20000  \n",
       "2          5-10 years  150000  \n",
       "3          5-10 years   80000  \n",
       "4           1-2 years   40000  "
      ]
     },
     "execution_count": 180,
     "metadata": {},
     "output_type": "execute_result"
    }
   ],
   "source": [
    "clean_data.head()"
   ]
  },
  {
   "cell_type": "code",
   "execution_count": 148,
   "metadata": {},
   "outputs": [
    {
     "data": {
      "text/plain": [
       "<seaborn.axisgrid.FacetGrid at 0x241a3464ac0>"
      ]
     },
     "execution_count": 148,
     "metadata": {},
     "output_type": "execute_result"
    },
    {
     "data": {
      "image/png": "[encoded data removed]",
      "text/plain": [
       "<Figure size 433.375x360 with 1 Axes>"
      ]
     },
     "metadata": {
      "needs_background": "light"
     },
     "output_type": "display_data"
    }
   ],
   "source": [
    "# Figure 1: Plot Salary vs. Education levels between Man and Woman\n",
    "clean_data1 = clean_data[((clean_data.sex=='Man') | (clean_data.sex=='Woman'))&\n",
    "                          ((clean_data.education == 'Bachelor’s degree')|(clean_data.education == 'Master’s degree')\n",
    "                          |(clean_data.education == 'Doctoral degree'))]\n",
    "\n",
    "ax1=sns.relplot(x='education',y='salary',data=clean_data1, \n",
    "           kind='line',hue='sex',ci=None)\n",
    "\n",
    "ax1.fig.suptitle(\"Salary vs. Education Level \\n between men and women\")\n",
    "ax1.set_axis_labels(y_var='salary', x_var='Education')"
   ]
  },
  {
   "cell_type": "code",
   "execution_count": 149,
   "metadata": {},
   "outputs": [
    {
     "data": {
      "text/plain": [
       "<seaborn.axisgrid.FacetGrid at 0x241a4cd78e0>"
      ]
     },
     "execution_count": 149,
     "metadata": {},
     "output_type": "execute_result"
    },
    {
     "data": {
      "image/png": "[encoded data removed]",
      "text/plain": [
       "<Figure size 1080x360 with 7 Axes>"
      ]
     },
     "metadata": {
      "needs_background": "light"
     },
     "output_type": "display_data"
    }
   ],
   "source": [
    "# Clan_data2 only contains the following countries for men & women salary\n",
    "clean_data2= clean_data[((clean_data.sex=='Man') | (clean_data.sex=='Woman'))&\n",
    "    ((clean_data.country=='Canada')|(clean_data1.country=='United States of America')\n",
    "                        |(clean_data.country=='China')|(clean_data.country=='Germany')|(clean_data.country=='India')\n",
    "                        |(clean_data.country=='Russia')|(clean_data.country=='South Korea'))]\n",
    "\n",
    "ax2=sns.catplot(x='sex', y='salary', data=clean_data2, kind='bar',\n",
    "            col='country')\n",
    "ax2.fig.set_size_inches(15,5)\n",
    "ax2.set_titles('{col_name}')\n",
    "ax2.set_axis_labels(y_var='salary', x_var='sex')"
   ]
  },
  {
   "cell_type": "code",
   "execution_count": 150,
   "metadata": {},
   "outputs": [
    {
     "data": {
      "image/png": "[encoded data removed]",
      "text/plain": [
       "<Figure size 1080x432 with 1 Axes>"
      ]
     },
     "metadata": {
      "needs_background": "light"
     },
     "output_type": "display_data"
    }
   ],
   "source": [
    "# Invetiagte if more coding experience leads to higher salary\n",
    "\n",
    "clean_data.years_of_experience = (pd.Categorical(clean_data.years_of_experience,ordered =True,\n",
    "                   categories =['I have never written code','< 1 years','1-2 years','3-5 years','5-10 years','10-20 years','20+ years']))\n",
    "\n",
    "plt.figure(figsize=(15, 6))\n",
    "ax3=sns.barplot(x='years_of_experience',y='salary',data=clean_data) \n",
    "\n",
    "ax3.set_xticklabels(ax3.get_xticklabels(),rotation=45)\n",
    "ax3.title.set_text(\"Salary vs. Years of Coding Experience\")"
   ]
  },
  {
   "cell_type": "markdown",
   "metadata": {},
   "source": [
    "### Q2 - Estimate the difference between average salary of men vs women"
   ]
  },
  {
   "cell_type": "code",
   "execution_count": 151,
   "metadata": {},
   "outputs": [],
   "source": [
    "from scipy import stats"
   ]
  },
  {
   "cell_type": "code",
   "execution_count": 152,
   "metadata": {},
   "outputs": [],
   "source": [
    "clean_data3 = clean_data[((clean_data.sex=='Man') | (clean_data.sex=='Woman'))]\n",
    "data_man = clean_data3[clean_data3['sex']=='Man']\n",
    "data_woman = clean_data3[clean_data3['sex']=='Woman']"
   ]
  },
  {
   "cell_type": "markdown",
   "metadata": {},
   "source": [
    "## a. Descriptive Statistics"
   ]
  },
  {
   "cell_type": "code",
   "execution_count": 153,
   "metadata": {
    "scrolled": true
   },
   "outputs": [
    {
     "data": {
      "text/html": [
       "<div>\n",
       "<style scoped>\n",
       "    .dataframe tbody tr th:only-of-type {\n",
       "        vertical-align: middle;\n",
       "    }\n",
       "\n",
       "    .dataframe tbody tr th {\n",
       "        vertical-align: top;\n",
       "    }\n",
       "\n",
       "    .dataframe thead th {\n",
       "        text-align: right;\n",
       "    }\n",
       "</style>\n",
       "<table border=\"1\" class=\"dataframe\">\n",
       "  <thead>\n",
       "    <tr style=\"text-align: right;\">\n",
       "      <th></th>\n",
       "      <th>salary</th>\n",
       "    </tr>\n",
       "  </thead>\n",
       "  <tbody>\n",
       "    <tr>\n",
       "      <th>count</th>\n",
       "      <td>8872.000000</td>\n",
       "    </tr>\n",
       "    <tr>\n",
       "      <th>mean</th>\n",
       "      <td>50750.619928</td>\n",
       "    </tr>\n",
       "    <tr>\n",
       "      <th>std</th>\n",
       "      <td>70347.974812</td>\n",
       "    </tr>\n",
       "    <tr>\n",
       "      <th>min</th>\n",
       "      <td>1000.000000</td>\n",
       "    </tr>\n",
       "    <tr>\n",
       "      <th>25%</th>\n",
       "      <td>3000.000000</td>\n",
       "    </tr>\n",
       "    <tr>\n",
       "      <th>50%</th>\n",
       "      <td>25000.000000</td>\n",
       "    </tr>\n",
       "    <tr>\n",
       "      <th>75%</th>\n",
       "      <td>70000.000000</td>\n",
       "    </tr>\n",
       "    <tr>\n",
       "      <th>max</th>\n",
       "      <td>500000.000000</td>\n",
       "    </tr>\n",
       "  </tbody>\n",
       "</table>\n",
       "</div>"
      ],
      "text/plain": [
       "              salary\n",
       "count    8872.000000\n",
       "mean    50750.619928\n",
       "std     70347.974812\n",
       "min      1000.000000\n",
       "25%      3000.000000\n",
       "50%     25000.000000\n",
       "75%     70000.000000\n",
       "max    500000.000000"
      ]
     },
     "execution_count": 153,
     "metadata": {},
     "output_type": "execute_result"
    }
   ],
   "source": [
    "# For men's salary\n",
    "data_man.describe()  # displays count, mean, std, min, max and 25%,50%,75% quantile"
   ]
  },
  {
   "cell_type": "code",
   "execution_count": 154,
   "metadata": {},
   "outputs": [
    {
     "data": {
      "text/plain": [
       "25000.0"
      ]
     },
     "execution_count": 154,
     "metadata": {},
     "output_type": "execute_result"
    }
   ],
   "source": [
    "# Median of man's salary\n",
    "data_man.salary.median()"
   ]
  },
  {
   "cell_type": "code",
   "execution_count": 155,
   "metadata": {
    "scrolled": true
   },
   "outputs": [
    {
     "data": {
      "text/html": [
       "<div>\n",
       "<style scoped>\n",
       "    .dataframe tbody tr th:only-of-type {\n",
       "        vertical-align: middle;\n",
       "    }\n",
       "\n",
       "    .dataframe tbody tr th {\n",
       "        vertical-align: top;\n",
       "    }\n",
       "\n",
       "    .dataframe thead th {\n",
       "        text-align: right;\n",
       "    }\n",
       "</style>\n",
       "<table border=\"1\" class=\"dataframe\">\n",
       "  <thead>\n",
       "    <tr style=\"text-align: right;\">\n",
       "      <th></th>\n",
       "      <th>salary</th>\n",
       "    </tr>\n",
       "  </thead>\n",
       "  <tbody>\n",
       "    <tr>\n",
       "      <th>count</th>\n",
       "      <td>1683.000000</td>\n",
       "    </tr>\n",
       "    <tr>\n",
       "      <th>mean</th>\n",
       "      <td>36417.112299</td>\n",
       "    </tr>\n",
       "    <tr>\n",
       "      <th>std</th>\n",
       "      <td>59442.716093</td>\n",
       "    </tr>\n",
       "    <tr>\n",
       "      <th>min</th>\n",
       "      <td>1000.000000</td>\n",
       "    </tr>\n",
       "    <tr>\n",
       "      <th>25%</th>\n",
       "      <td>1000.000000</td>\n",
       "    </tr>\n",
       "    <tr>\n",
       "      <th>50%</th>\n",
       "      <td>7500.000000</td>\n",
       "    </tr>\n",
       "    <tr>\n",
       "      <th>75%</th>\n",
       "      <td>50000.000000</td>\n",
       "    </tr>\n",
       "    <tr>\n",
       "      <th>max</th>\n",
       "      <td>500000.000000</td>\n",
       "    </tr>\n",
       "  </tbody>\n",
       "</table>\n",
       "</div>"
      ],
      "text/plain": [
       "              salary\n",
       "count    1683.000000\n",
       "mean    36417.112299\n",
       "std     59442.716093\n",
       "min      1000.000000\n",
       "25%      1000.000000\n",
       "50%      7500.000000\n",
       "75%     50000.000000\n",
       "max    500000.000000"
      ]
     },
     "execution_count": 155,
     "metadata": {},
     "output_type": "execute_result"
    }
   ],
   "source": [
    "# For woman's salary\n",
    "data_woman.describe()"
   ]
  },
  {
   "cell_type": "code",
   "execution_count": 156,
   "metadata": {},
   "outputs": [
    {
     "data": {
      "text/plain": [
       "7500.0"
      ]
     },
     "execution_count": 156,
     "metadata": {},
     "output_type": "execute_result"
    }
   ],
   "source": [
    "#Median of woman's salary\n",
    "data_woman.salary.median()"
   ]
  },
  {
   "cell_type": "markdown",
   "metadata": {},
   "source": [
    "## b.If suitable, perform T-test"
   ]
  },
  {
   "cell_type": "code",
   "execution_count": 157,
   "metadata": {
    "scrolled": false
   },
   "outputs": [
    {
     "data": {
      "text/plain": [
       "(0.0, 300000.0)"
      ]
     },
     "execution_count": 157,
     "metadata": {},
     "output_type": "execute_result"
    },
    {
     "data": {
      "image/png": "[encoded data removed]",
      "text/plain": [
       "<Figure size 720x360 with 2 Axes>"
      ]
     },
     "metadata": {
      "needs_background": "light"
     },
     "output_type": "display_data"
    }
   ],
   "source": [
    "#Plot the distribution between two groups --- men's salary and women' salary\n",
    "fig, ax4 = plt.subplots(1,2, figsize=(10,5))\n",
    "sns.histplot(ax=ax4[0], x=data_man.salary)\n",
    "sns.histplot(ax=ax4[1], x=data_woman.salary)\n",
    "ax4[0].title.set_text(\"Distribution of man's salary\")\n",
    "ax4[1].title.set_text(\"Distribution of woman's salary\")\n",
    "\n",
    "ax4[0].set_xlim([0,300000])\n",
    "ax4[1].set_xlim([0,300000])\n",
    "\n"
   ]
  },
  {
   "cell_type": "code",
   "execution_count": 158,
   "metadata": {},
   "outputs": [
    {
     "data": {
      "text/plain": [
       "7.716969555891583e-11"
      ]
     },
     "execution_count": 158,
     "metadata": {},
     "output_type": "execute_result"
    }
   ],
   "source": [
    "# Use Levene's Test to check equal variance\n",
    "from scipy.stats import levene\n",
    "stat, p = levene(data_man.salary,data_woman.salary)\n",
    "p"
   ]
  },
  {
   "cell_type": "code",
   "execution_count": 159,
   "metadata": {},
   "outputs": [
    {
     "name": "stdout",
     "output_type": "stream",
     "text": [
      "t-test: t = 8.79292  p = 2.5656e-18\n"
     ]
    }
   ],
   "source": [
    "# Welche's t-test with unequal variance\n",
    "tc, pc = stats.ttest_ind(data_man.salary, data_woman.salary,equal_var=False)\n",
    "print (\"t-test: t = %g  p = %g\" % (tc, pc))"
   ]
  },
  {
   "cell_type": "markdown",
   "metadata": {},
   "source": [
    "## c. Bootstrapping"
   ]
  },
  {
   "cell_type": "code",
   "execution_count": 160,
   "metadata": {},
   "outputs": [],
   "source": [
    "# Define a function that resamples a sample. \n",
    "# Replciations is the number of resampling, which is 1000 in the assignment.\n",
    "\n",
    "def boot_strap(data,replications):\n",
    "    bt_mean_list=[]\n",
    "    for i in range(replications):\n",
    "        bt_sample=np.random.choice(data,size=len(data), replace=True)\n",
    "        bt_mean_list.append(bt_sample.mean())\n",
    "        \n",
    "# Return a list to store all the bootstrapped sample means\n",
    "    return bt_mean_list"
   ]
  },
  {
   "cell_type": "code",
   "execution_count": 161,
   "metadata": {
    "scrolled": true
   },
   "outputs": [],
   "source": [
    "# Bootstrap both men's and women's mean salary\n",
    "\n",
    "bt_mean_man=np.array(boot_strap(data_man.salary,1000))\n",
    "bt_mean_woman=np.array(boot_strap(data_woman.salary,1000))\n",
    "mean_diff= bt_mean_man-bt_mean_woman"
   ]
  },
  {
   "cell_type": "code",
   "execution_count": 162,
   "metadata": {},
   "outputs": [
    {
     "data": {
      "image/png": "[encoded data removed]",
      "text/plain": [
       "<Figure size 1080x432 with 3 Axes>"
      ]
     },
     "metadata": {
      "needs_background": "light"
     },
     "output_type": "display_data"
    }
   ],
   "source": [
    "# plot the bootstrapping distribtuion of sample means\n",
    "fig, ax5 = plt.subplots(1,3, figsize=(15,6))\n",
    "sns.histplot(ax=ax5[0], x=bt_mean_man)\n",
    "sns.histplot(ax=ax5[1], x=bt_mean_woman)\n",
    "sns.histplot(ax=ax5[2], x=mean_diff)\n",
    "\n",
    "\n",
    "ax5[0].title.set_text(\"Bootstrapped Mean of Men's salary\")\n",
    "ax5[1].title.set_text(\"Bootstrapped Mean of Women's salary\")\n",
    "ax5[2].title.set_text('Difference in means')"
   ]
  },
  {
   "cell_type": "markdown",
   "metadata": {},
   "source": [
    "## d. T-test on bootstrapped data"
   ]
  },
  {
   "cell_type": "code",
   "execution_count": 163,
   "metadata": {},
   "outputs": [
    {
     "data": {
      "text/plain": [
       "1.0675175007605293e-63"
      ]
     },
     "execution_count": 163,
     "metadata": {},
     "output_type": "execute_result"
    }
   ],
   "source": [
    "#Levene test for equal varaince\n",
    "stat, p = levene(bt_mean_man,bt_mean_woman)\n",
    "p"
   ]
  },
  {
   "cell_type": "code",
   "execution_count": 164,
   "metadata": {
    "scrolled": true
   },
   "outputs": [
    {
     "name": "stdout",
     "output_type": "stream",
     "text": [
      "t-test: t = 275.836  p = 0\n"
     ]
    }
   ],
   "source": [
    "# Welch's t-test with unequal variance\n",
    "\n",
    "tc, pc = stats.ttest_ind(bt_mean_man, bt_mean_woman,equal_var=False)\n",
    "print (\"t-test: t = %g  p = %g\" % (tc, pc))"
   ]
  },
  {
   "cell_type": "markdown",
   "metadata": {},
   "source": [
    "### Q3. ANOVA on Bachelor's degree, Doctoral degree and Master's degree "
   ]
  },
  {
   "cell_type": "markdown",
   "metadata": {},
   "source": [
    "## a. Decriptive statistics"
   ]
  },
  {
   "cell_type": "code",
   "execution_count": 165,
   "metadata": {},
   "outputs": [
    {
     "data": {
      "text/html": [
       "<div>\n",
       "<style scoped>\n",
       "    .dataframe tbody tr th:only-of-type {\n",
       "        vertical-align: middle;\n",
       "    }\n",
       "\n",
       "    .dataframe tbody tr th {\n",
       "        vertical-align: top;\n",
       "    }\n",
       "\n",
       "    .dataframe thead th {\n",
       "        text-align: right;\n",
       "    }\n",
       "</style>\n",
       "<table border=\"1\" class=\"dataframe\">\n",
       "  <thead>\n",
       "    <tr style=\"text-align: right;\">\n",
       "      <th></th>\n",
       "      <th>salary</th>\n",
       "    </tr>\n",
       "  </thead>\n",
       "  <tbody>\n",
       "    <tr>\n",
       "      <th>count</th>\n",
       "      <td>3013.000000</td>\n",
       "    </tr>\n",
       "    <tr>\n",
       "      <th>mean</th>\n",
       "      <td>35732.824427</td>\n",
       "    </tr>\n",
       "    <tr>\n",
       "      <th>std</th>\n",
       "      <td>60247.753546</td>\n",
       "    </tr>\n",
       "    <tr>\n",
       "      <th>min</th>\n",
       "      <td>1000.000000</td>\n",
       "    </tr>\n",
       "    <tr>\n",
       "      <th>25%</th>\n",
       "      <td>1000.000000</td>\n",
       "    </tr>\n",
       "    <tr>\n",
       "      <th>50%</th>\n",
       "      <td>10000.000000</td>\n",
       "    </tr>\n",
       "    <tr>\n",
       "      <th>75%</th>\n",
       "      <td>50000.000000</td>\n",
       "    </tr>\n",
       "    <tr>\n",
       "      <th>max</th>\n",
       "      <td>500000.000000</td>\n",
       "    </tr>\n",
       "  </tbody>\n",
       "</table>\n",
       "</div>"
      ],
      "text/plain": [
       "              salary\n",
       "count    3013.000000\n",
       "mean    35732.824427\n",
       "std     60247.753546\n",
       "min      1000.000000\n",
       "25%      1000.000000\n",
       "50%     10000.000000\n",
       "75%     50000.000000\n",
       "max    500000.000000"
      ]
     },
     "execution_count": 165,
     "metadata": {},
     "output_type": "execute_result"
    }
   ],
   "source": [
    "# Basic statistics for Bachelor's degree\n",
    "data_bachelor=clean_data[clean_data.education==\"Bachelor’s degree\"]\n",
    "data_bachelor.describe()"
   ]
  },
  {
   "cell_type": "code",
   "execution_count": 166,
   "metadata": {},
   "outputs": [
    {
     "data": {
      "text/plain": [
       "10000.0"
      ]
     },
     "execution_count": 166,
     "metadata": {},
     "output_type": "execute_result"
    }
   ],
   "source": [
    "data_bachelor.salary.median()"
   ]
  },
  {
   "cell_type": "code",
   "execution_count": 167,
   "metadata": {},
   "outputs": [
    {
     "data": {
      "text/html": [
       "<div>\n",
       "<style scoped>\n",
       "    .dataframe tbody tr th:only-of-type {\n",
       "        vertical-align: middle;\n",
       "    }\n",
       "\n",
       "    .dataframe tbody tr th {\n",
       "        vertical-align: top;\n",
       "    }\n",
       "\n",
       "    .dataframe thead th {\n",
       "        text-align: right;\n",
       "    }\n",
       "</style>\n",
       "<table border=\"1\" class=\"dataframe\">\n",
       "  <thead>\n",
       "    <tr style=\"text-align: right;\">\n",
       "      <th></th>\n",
       "      <th>salary</th>\n",
       "    </tr>\n",
       "  </thead>\n",
       "  <tbody>\n",
       "    <tr>\n",
       "      <th>count</th>\n",
       "      <td>4879.000000</td>\n",
       "    </tr>\n",
       "    <tr>\n",
       "      <th>mean</th>\n",
       "      <td>52120.106579</td>\n",
       "    </tr>\n",
       "    <tr>\n",
       "      <th>std</th>\n",
       "      <td>67681.571528</td>\n",
       "    </tr>\n",
       "    <tr>\n",
       "      <th>min</th>\n",
       "      <td>1000.000000</td>\n",
       "    </tr>\n",
       "    <tr>\n",
       "      <th>25%</th>\n",
       "      <td>4000.000000</td>\n",
       "    </tr>\n",
       "    <tr>\n",
       "      <th>50%</th>\n",
       "      <td>25000.000000</td>\n",
       "    </tr>\n",
       "    <tr>\n",
       "      <th>75%</th>\n",
       "      <td>70000.000000</td>\n",
       "    </tr>\n",
       "    <tr>\n",
       "      <th>max</th>\n",
       "      <td>500000.000000</td>\n",
       "    </tr>\n",
       "  </tbody>\n",
       "</table>\n",
       "</div>"
      ],
      "text/plain": [
       "              salary\n",
       "count    4879.000000\n",
       "mean    52120.106579\n",
       "std     67681.571528\n",
       "min      1000.000000\n",
       "25%      4000.000000\n",
       "50%     25000.000000\n",
       "75%     70000.000000\n",
       "max    500000.000000"
      ]
     },
     "execution_count": 167,
     "metadata": {},
     "output_type": "execute_result"
    }
   ],
   "source": [
    "# Basic statistics for Master's degree\n",
    "data_master=clean_data[clean_data.education==\"Master’s degree\"]\n",
    "data_master.describe()"
   ]
  },
  {
   "cell_type": "code",
   "execution_count": 168,
   "metadata": {},
   "outputs": [
    {
     "data": {
      "text/plain": [
       "25000.0"
      ]
     },
     "execution_count": 168,
     "metadata": {},
     "output_type": "execute_result"
    }
   ],
   "source": [
    "data_master.salary.median()"
   ]
  },
  {
   "cell_type": "code",
   "execution_count": 169,
   "metadata": {
    "scrolled": true
   },
   "outputs": [
    {
     "data": {
      "text/html": [
       "<div>\n",
       "<style scoped>\n",
       "    .dataframe tbody tr th:only-of-type {\n",
       "        vertical-align: middle;\n",
       "    }\n",
       "\n",
       "    .dataframe tbody tr th {\n",
       "        vertical-align: top;\n",
       "    }\n",
       "\n",
       "    .dataframe thead th {\n",
       "        text-align: right;\n",
       "    }\n",
       "</style>\n",
       "<table border=\"1\" class=\"dataframe\">\n",
       "  <thead>\n",
       "    <tr style=\"text-align: right;\">\n",
       "      <th></th>\n",
       "      <th>salary</th>\n",
       "    </tr>\n",
       "  </thead>\n",
       "  <tbody>\n",
       "    <tr>\n",
       "      <th>count</th>\n",
       "      <td>1718.000000</td>\n",
       "    </tr>\n",
       "    <tr>\n",
       "      <th>mean</th>\n",
       "      <td>68719.441211</td>\n",
       "    </tr>\n",
       "    <tr>\n",
       "      <th>std</th>\n",
       "      <td>85403.650394</td>\n",
       "    </tr>\n",
       "    <tr>\n",
       "      <th>min</th>\n",
       "      <td>1000.000000</td>\n",
       "    </tr>\n",
       "    <tr>\n",
       "      <th>25%</th>\n",
       "      <td>5000.000000</td>\n",
       "    </tr>\n",
       "    <tr>\n",
       "      <th>50%</th>\n",
       "      <td>40000.000000</td>\n",
       "    </tr>\n",
       "    <tr>\n",
       "      <th>75%</th>\n",
       "      <td>90000.000000</td>\n",
       "    </tr>\n",
       "    <tr>\n",
       "      <th>max</th>\n",
       "      <td>500000.000000</td>\n",
       "    </tr>\n",
       "  </tbody>\n",
       "</table>\n",
       "</div>"
      ],
      "text/plain": [
       "              salary\n",
       "count    1718.000000\n",
       "mean    68719.441211\n",
       "std     85403.650394\n",
       "min      1000.000000\n",
       "25%      5000.000000\n",
       "50%     40000.000000\n",
       "75%     90000.000000\n",
       "max    500000.000000"
      ]
     },
     "execution_count": 169,
     "metadata": {},
     "output_type": "execute_result"
    }
   ],
   "source": [
    "# Basic statistics for Doctoral degree\n",
    "data_phd=clean_data[clean_data.education==\"Doctoral degree\"]\n",
    "data_phd.describe()"
   ]
  },
  {
   "cell_type": "code",
   "execution_count": 170,
   "metadata": {},
   "outputs": [
    {
     "data": {
      "text/plain": [
       "40000.0"
      ]
     },
     "execution_count": 170,
     "metadata": {},
     "output_type": "execute_result"
    }
   ],
   "source": [
    "data_phd.salary.median()"
   ]
  },
  {
   "cell_type": "code",
   "execution_count": 171,
   "metadata": {},
   "outputs": [
    {
     "data": {
      "image/png": "[encoded data removed]",
      "text/plain": [
       "<Figure size 1080x432 with 3 Axes>"
      ]
     },
     "metadata": {
      "needs_background": "light"
     },
     "output_type": "display_data"
    }
   ],
   "source": [
    "# Plot the distribution of three groups\n",
    "fig, ax8 = plt.subplots(1,3, figsize=(15,6))\n",
    "sns.histplot(ax=ax8[0], x=data_bachelor.salary)\n",
    "sns.histplot(ax=ax8[1], x=data_master.salary)\n",
    "sns.histplot(ax=ax8[2], x=data_phd.salary)\n",
    "ax8[0].title.set_text(\"Distribution of Bachelor's salary\")\n",
    "ax8[1].title.set_text(\"Distribution of Master's salary\")\n",
    "ax8[2].title.set_text(\"Distribution of Phd's salary\")\n"
   ]
  },
  {
   "cell_type": "markdown",
   "metadata": {},
   "source": [
    "## b.If suitable, perform ANOVA"
   ]
  },
  {
   "cell_type": "code",
   "execution_count": 172,
   "metadata": {},
   "outputs": [
    {
     "data": {
      "text/plain": [
       "8.10689890776844e-40"
      ]
     },
     "execution_count": 172,
     "metadata": {},
     "output_type": "execute_result"
    }
   ],
   "source": [
    "#Levene's test for equal variance\n",
    "stat, p = levene(data_bachelor.salary,data_master.salary,data_phd.salary)\n",
    "p"
   ]
  },
  {
   "cell_type": "code",
   "execution_count": 173,
   "metadata": {},
   "outputs": [
    {
     "data": {
      "text/plain": [
       "KruskalResult(statistic=354.12495178884615, pvalue=1.2669041737995248e-77)"
      ]
     },
     "execution_count": 173,
     "metadata": {},
     "output_type": "execute_result"
    }
   ],
   "source": [
    "# Kruskal-Wallis H-test - Non-parametric ANOVA\n",
    "stats.kruskal(data_bachelor.salary,data_master.salary,data_phd.salary)"
   ]
  },
  {
   "cell_type": "markdown",
   "metadata": {},
   "source": [
    "## c. Bootstrapping"
   ]
  },
  {
   "cell_type": "code",
   "execution_count": 174,
   "metadata": {},
   "outputs": [],
   "source": [
    "# Use the previous function to bootstrap the means of the three groups \n",
    "bt_mean_bachelor=np.array(boot_strap(data_bachelor.salary,1000))\n",
    "bt_mean_master=np.array(boot_strap(data_master.salary,1000))\n",
    "bt_mean_phd=np.array(boot_strap(data_phd.salary,1000))"
   ]
  },
  {
   "cell_type": "code",
   "execution_count": 175,
   "metadata": {},
   "outputs": [
    {
     "data": {
      "image/png": "[encoded data removed]",
      "text/plain": [
       "<Figure size 1080x432 with 3 Axes>"
      ]
     },
     "metadata": {
      "needs_background": "light"
     },
     "output_type": "display_data"
    }
   ],
   "source": [
    "# Plot the bootstrapping distribution of means from three groups\n",
    "fig, ax9 = plt.subplots(1,3, figsize=(15,6))\n",
    "sns.histplot(ax=ax9[0], x=bt_mean_bachelor)\n",
    "sns.histplot(ax=ax9[1], x=bt_mean_master)\n",
    "sns.histplot(ax=ax9[2], x=bt_mean_phd)\n",
    "\n",
    "\n",
    "#ax9=sns.histplot(bt_mean_bachelor)\n",
    "ax9[0].title.set_text(\"Bootstrapped Mean of Bachelor's salary\")\n",
    "ax9[1].title.set_text(\"Bootstrapped Mean of Master's salary\")\n",
    "ax9[2].title.set_text(\"Bootstrapped Mean of Phd's salary\")"
   ]
  },
  {
   "cell_type": "code",
   "execution_count": 176,
   "metadata": {},
   "outputs": [],
   "source": [
    "# Difference in means --> Compare two groups each time\n",
    "diff_b_m = bt_mean_master-bt_mean_bachelor\n",
    "diff_b_p = bt_mean_phd-bt_mean_bachelor\n",
    "diff_m_p = bt_mean_phd-bt_mean_master"
   ]
  },
  {
   "cell_type": "code",
   "execution_count": 177,
   "metadata": {},
   "outputs": [
    {
     "data": {
      "image/png": "[encoded data removed]",
      "text/plain": [
       "<Figure size 1080x432 with 3 Axes>"
      ]
     },
     "metadata": {
      "needs_background": "light"
     },
     "output_type": "display_data"
    }
   ],
   "source": [
    "# Plot the distribution of differences in means among three groups\n",
    "fig, ax10 = plt.subplots(1,3, figsize=(15,6))\n",
    "sns.histplot(ax=ax10[0], x=diff_b_m)\n",
    "sns.histplot(ax=ax10[1], x=diff_b_p)\n",
    "sns.histplot(ax=ax10[2], x=diff_m_p)\n",
    "\n",
    "ax10[0].title.set_text(\"Difference in means \\n between Bachelor and Master's salary\")\n",
    "\n",
    "ax10[1].title.set_text(\"Difference in means \\n between Bachelor and Phd's salary\")\n",
    "\n",
    "ax10[2].title.set_text(\"Difference in means \\n between Master and Phd's salary\")"
   ]
  },
  {
   "cell_type": "markdown",
   "metadata": {},
   "source": [
    "## d. Anova on bootstrapped data"
   ]
  },
  {
   "cell_type": "code",
   "execution_count": 178,
   "metadata": {},
   "outputs": [
    {
     "name": "stdout",
     "output_type": "stream",
     "text": [
      "Bachelor's Degree Group has a standard deviation of 1124.3336916076696\n",
      "Master's Degree Group has a standard deviation of 983.4377679964595\n",
      "Doctoral Degree Group has a standard deviation of 2027.518923644221\n"
     ]
    }
   ],
   "source": [
    "# Check if the variances of three groups are somewhat close to one another\n",
    "print(\"Bachelor's Degree Group has a standard deviation of\", bt_mean_bachelor.std())\n",
    "print(\"Master's Degree Group has a standard deviation of\", bt_mean_master.std())\n",
    "print(\"Doctoral Degree Group has a standard deviation of\", bt_mean_phd.std())"
   ]
  },
  {
   "cell_type": "code",
   "execution_count": 179,
   "metadata": {},
   "outputs": [
    {
     "data": {
      "text/plain": [
       "F_onewayResult(statistic=128514.79966092526, pvalue=0.0)"
      ]
     },
     "execution_count": 179,
     "metadata": {},
     "output_type": "execute_result"
    }
   ],
   "source": [
    "# Assume the homogeneity of variance is acheived and the distributions are visually normal, we can conduct one-way ANOVA\n",
    "stats.f_oneway(bt_mean_bachelor,bt_mean_master,bt_mean_phd)"
   ]
  },
  {
   "cell_type": "code",
   "execution_count": null,
   "metadata": {},
   "outputs": [],
   "source": []
  }
 ],
 "metadata": {
  "kernelspec": {
   "display_name": "Python 3",
   "language": "python",
   "name": "python3"
  },
  "language_info": {
   "codemirror_mode": {
    "name": "ipython",
    "version": 3
   },
   "file_extension": ".py",
   "mimetype": "text/x-python",
   "name": "python",
   "nbconvert_exporter": "python",
   "pygments_lexer": "ipython3",
   "version": "3.8.5"
  }
 },
 "nbformat": 4,
 "nbformat_minor": 2
}
